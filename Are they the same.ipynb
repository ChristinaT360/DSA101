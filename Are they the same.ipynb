{
 "cells": [
  {
   "cell_type": "code",
   "execution_count": null,
   "id": "2769d523-7fcb-445a-82da-24249f50b732",
   "metadata": {},
   "outputs": [],
   "source": [
    "%matplotlib inline\n",
    "\n",
    "import numpy as np\n",
    "import pandas as pd\n",
    "from matplotlib import pyplot as plt\n",
    "from pathlib import Path"
   ]
  },
  {
   "cell_type": "markdown",
   "id": "abc14e40-301c-4d63-98cb-f8d4d86739cc",
   "metadata": {},
   "source": [
    "# Do we think the same thing is happening in all of these countries?\n",
    "\n",
    "This is a hypothetical dataset representing pesticide residues above a safety threshold vs. percentage of organic farms in different countries. How can we tell if trends are consistent across countries?"
   ]
  },
  {
   "cell_type": "code",
   "execution_count": null,
   "id": "3b636b8d-de14-4d38-a855-2cfe5567cb80",
   "metadata": {},
   "outputs": [],
   "source": [
    "for file in Path('.').glob(\"*.csv\"):\n",
    "    df = pd.read_csv(file)\n",
    "    x, y = df['x'], df['y']\n",
    "    x_mean = np.mean(x)\n",
    "    y_mean = np.mean(y)\n",
    "    coeff = np.polyfit(x, y, deg=1)\n",
    "    corr = np.corrcoef(x, y)[0, 1]\n",
    "    \n",
    "    print(f\"x_mean={x_mean:.3f}, y_mean={y_mean:.3f}, linear regression fr(x)={coeff[1]:.1f} {coeff[0]:.2f} x, r = {corr:.3f} \")"
   ]
  },
  {
   "cell_type": "code",
   "execution_count": null,
   "id": "ef3ec6f3-8fcc-4898-ae43-b57fdf55cf9e",
   "metadata": {},
   "outputs": [],
   "source": []
  },
  {
   "cell_type": "code",
   "execution_count": null,
   "id": "c9f143b8-46e6-41d4-8799-adf864419a37",
   "metadata": {},
   "outputs": [],
   "source": []
  }
 ],
 "metadata": {
  "kernelspec": {
   "display_name": "Python 3 (ipykernel)",
   "language": "python",
   "name": "python3"
  },
  "language_info": {
   "codemirror_mode": {
    "name": "ipython",
    "version": 3
   },
   "file_extension": ".py",
   "mimetype": "text/x-python",
   "name": "python",
   "nbconvert_exporter": "python",
   "pygments_lexer": "ipython3",
   "version": "3.12.2"
  }
 },
 "nbformat": 4,
 "nbformat_minor": 5
}
